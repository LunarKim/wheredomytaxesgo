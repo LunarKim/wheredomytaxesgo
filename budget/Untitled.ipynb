{
 "cells": [
  {
   "cell_type": "code",
   "execution_count": 3,
   "metadata": {},
   "outputs": [
    {
     "ename": "SyntaxError",
     "evalue": "invalid syntax (<ipython-input-3-c3947e899bff>, line 4)",
     "output_type": "error",
     "traceback": [
      "\u001b[1;36m  File \u001b[1;32m\"<ipython-input-3-c3947e899bff>\"\u001b[1;36m, line \u001b[1;32m4\u001b[0m\n\u001b[1;33m    import plotnine import *\u001b[0m\n\u001b[1;37m                         ^\u001b[0m\n\u001b[1;31mSyntaxError\u001b[0m\u001b[1;31m:\u001b[0m invalid syntax\n"
     ]
    }
   ],
   "source": [
    "import pandas as pd\n",
    "import matplotlib as plt\n",
    "from plotnine import *\n",
    "from plotnine import *"
   ]
  },
  {
   "cell_type": "code",
   "execution_count": 5,
   "metadata": {},
   "outputs": [],
   "source": [
    "import matplotlib.font_manager as fm\n",
    "fontpath = 'C:/Windows/Fonts/NanumBarunGothic.ttf'\n",
    "font_name = fm.FontProperties(fname=fontpath, size=15).get_name()\n",
    "plt.rc('font', family=font_name)"
   ]
  },
  {
   "cell_type": "code",
   "execution_count": 8,
   "metadata": {},
   "outputs": [],
   "source": [
    "budget_2010  = pd.read_csv('budget_2010.csv', encoding='utf-8' ).copy()"
   ]
  },
  {
   "cell_type": "code",
   "execution_count": 9,
   "metadata": {},
   "outputs": [
    {
     "data": {
      "text/html": [
       "<div>\n",
       "<style scoped>\n",
       "    .dataframe tbody tr th:only-of-type {\n",
       "        vertical-align: middle;\n",
       "    }\n",
       "\n",
       "    .dataframe tbody tr th {\n",
       "        vertical-align: top;\n",
       "    }\n",
       "\n",
       "    .dataframe thead th {\n",
       "        text-align: right;\n",
       "    }\n",
       "</style>\n",
       "<table border=\"1\" class=\"dataframe\">\n",
       "  <thead>\n",
       "    <tr style=\"text-align: right;\">\n",
       "      <th></th>\n",
       "      <th>회계연도</th>\n",
       "      <th>지역명</th>\n",
       "      <th>자치단체코드</th>\n",
       "      <th>자치단체명</th>\n",
       "      <th>분야코드</th>\n",
       "      <th>분야명</th>\n",
       "      <th>부문코드</th>\n",
       "      <th>부문명</th>\n",
       "      <th>세출결산액</th>\n",
       "    </tr>\n",
       "  </thead>\n",
       "  <tbody>\n",
       "    <tr>\n",
       "      <th>0</th>\n",
       "      <td>2010</td>\n",
       "      <td>제주</td>\n",
       "      <td>4900000</td>\n",
       "      <td>제주본청</td>\n",
       "      <td>20</td>\n",
       "      <td>공공질서및안전</td>\n",
       "      <td>23</td>\n",
       "      <td>경찰</td>\n",
       "      <td>791396823</td>\n",
       "    </tr>\n",
       "    <tr>\n",
       "      <th>1</th>\n",
       "      <td>2010</td>\n",
       "      <td>제주</td>\n",
       "      <td>4900000</td>\n",
       "      <td>제주본청</td>\n",
       "      <td>20</td>\n",
       "      <td>공공질서및안전</td>\n",
       "      <td>25</td>\n",
       "      <td>재난방재ㆍ민방위</td>\n",
       "      <td>144816366800</td>\n",
       "    </tr>\n",
       "    <tr>\n",
       "      <th>2</th>\n",
       "      <td>2010</td>\n",
       "      <td>제주</td>\n",
       "      <td>4900000</td>\n",
       "      <td>제주본청</td>\n",
       "      <td>50</td>\n",
       "      <td>교육</td>\n",
       "      <td>51</td>\n",
       "      <td>유아및초중등교육</td>\n",
       "      <td>22916348770</td>\n",
       "    </tr>\n",
       "    <tr>\n",
       "      <th>3</th>\n",
       "      <td>2010</td>\n",
       "      <td>제주</td>\n",
       "      <td>4900000</td>\n",
       "      <td>제주본청</td>\n",
       "      <td>50</td>\n",
       "      <td>교육</td>\n",
       "      <td>52</td>\n",
       "      <td>고등교육</td>\n",
       "      <td>759000000</td>\n",
       "    </tr>\n",
       "    <tr>\n",
       "      <th>4</th>\n",
       "      <td>2010</td>\n",
       "      <td>제주</td>\n",
       "      <td>4900000</td>\n",
       "      <td>제주본청</td>\n",
       "      <td>50</td>\n",
       "      <td>교육</td>\n",
       "      <td>53</td>\n",
       "      <td>평생ㆍ직업교육</td>\n",
       "      <td>1383594580</td>\n",
       "    </tr>\n",
       "  </tbody>\n",
       "</table>\n",
       "</div>"
      ],
      "text/plain": [
       "   회계연도 지역명   자치단체코드 자치단체명  분야코드      분야명  부문코드       부문명         세출결산액\n",
       "0  2010  제주  4900000  제주본청    20  공공질서및안전    23        경찰     791396823\n",
       "1  2010  제주  4900000  제주본청    20  공공질서및안전    25  재난방재ㆍ민방위  144816366800\n",
       "2  2010  제주  4900000  제주본청    50       교육    51  유아및초중등교육   22916348770\n",
       "3  2010  제주  4900000  제주본청    50       교육    52      고등교육     759000000\n",
       "4  2010  제주  4900000  제주본청    50       교육    53   평생ㆍ직업교육    1383594580"
      ]
     },
     "execution_count": 9,
     "metadata": {},
     "output_type": "execute_result"
    }
   ],
   "source": [
    "budget_2010.head()"
   ]
  },
  {
   "cell_type": "code",
   "execution_count": 10,
   "metadata": {},
   "outputs": [],
   "source": [
    "def branch(district):\n",
    "    district_2010 = budget_2010[]\n",
    "    \n",
    "    \n",
    "JEJU_2010  = budget_2010[budget_2010['자치단체명'].str.contains('제주본청',regex=True)]\n",
    "JEJU_2010 = JEJU_2010[['자치단체명','분야명','세출결산액']].copy()\n",
    "JEJU_2010 = JEJU_2010.groupby(['분야명']).sum()\n",
    "JEJU_2010['분야별비율'] = JEJU_2010['세출결산액']\n",
    "JEJU_2010['분야별비율'] = (JEJU_2010['분야별비율']/ JEJU_2010['세출결산액'].sum()) * 100\n"
   ]
  },
  {
   "cell_type": "code",
   "execution_count": null,
   "metadata": {},
   "outputs": [],
   "source": []
  }
 ],
 "metadata": {
  "kernelspec": {
   "display_name": "Python 3",
   "language": "python",
   "name": "python3"
  },
  "language_info": {
   "codemirror_mode": {
    "name": "ipython",
    "version": 3
   },
   "file_extension": ".py",
   "mimetype": "text/x-python",
   "name": "python",
   "nbconvert_exporter": "python",
   "pygments_lexer": "ipython3",
   "version": "3.6.5"
  }
 },
 "nbformat": 4,
 "nbformat_minor": 2
}
